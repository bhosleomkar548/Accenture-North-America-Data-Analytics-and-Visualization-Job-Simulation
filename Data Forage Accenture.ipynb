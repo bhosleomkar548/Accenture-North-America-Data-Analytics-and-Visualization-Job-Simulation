{
 "cells": [
  {
   "cell_type": "code",
   "execution_count": null,
   "id": "cdab0701-d33f-4e2a-9fea-32387a037a47",
   "metadata": {},
   "outputs": [],
   "source": [
    "# Import necessary libraries \n",
    "import pandas as pd\n",
    "import numpy as np\n",
    "import matplotlib.pyplot as plt\n",
    "import seaborn as sns"
   ]
  },
  {
   "cell_type": "markdown",
   "id": "302db723",
   "metadata": {},
   "source": [
    "# Step 1: Load CSV files into DataFrames\n"
   ]
  },
  {
   "cell_type": "code",
   "execution_count": 2,
   "id": "ba4d5d40-581b-4398-b7b4-d882854745b3",
   "metadata": {},
   "outputs": [],
   "source": [
    "df_content = pd.read_csv(\"C:/Users/Omkar/Downloads/Content.csv\")"
   ]
  },
  {
   "cell_type": "code",
   "execution_count": 3,
   "id": "85d65916-076d-49f4-b9c3-4ec712210c8d",
   "metadata": {},
   "outputs": [],
   "source": [
    "df_reaction = pd.read_csv(\"C:/Users/Omkar/Downloads/Reactions.csv\")"
   ]
  },
  {
   "cell_type": "code",
   "execution_count": 4,
   "id": "554c2c69-36f1-4a68-929c-f92d1f533754",
   "metadata": {},
   "outputs": [],
   "source": [
    "df_reactionTypes = pd.read_csv(\"C:/Users/Omkar/Downloads/ReactionTypes.csv\")"
   ]
  },
  {
   "cell_type": "markdown",
   "id": "ba2fc00b",
   "metadata": {},
   "source": [
    "# Step 2: Explore df_content DataFrame\n"
   ]
  },
  {
   "cell_type": "code",
   "execution_count": null,
   "id": "893f1557-ee4c-47a6-82e1-07b7c52f22b4",
   "metadata": {},
   "outputs": [
    {
     "data": {
      "text/html": [
       "<div>\n",
       "<style scoped>\n",
       "    .dataframe tbody tr th:only-of-type {\n",
       "        vertical-align: middle;\n",
       "    }\n",
       "\n",
       "    .dataframe tbody tr th {\n",
       "        vertical-align: top;\n",
       "    }\n",
       "\n",
       "    .dataframe thead th {\n",
       "        text-align: right;\n",
       "    }\n",
       "</style>\n",
       "<table border=\"1\" class=\"dataframe\">\n",
       "  <thead>\n",
       "    <tr style=\"text-align: right;\">\n",
       "      <th></th>\n",
       "      <th>Unnamed: 0</th>\n",
       "      <th>Content ID</th>\n",
       "      <th>User ID</th>\n",
       "      <th>Type</th>\n",
       "      <th>Category</th>\n",
       "      <th>URL</th>\n",
       "    </tr>\n",
       "  </thead>\n",
       "  <tbody>\n",
       "    <tr>\n",
       "      <th>0</th>\n",
       "      <td>0</td>\n",
       "      <td>97522e57-d9ab-4bd6-97bf-c24d952602d2</td>\n",
       "      <td>8d3cd87d-8a31-4935-9a4f-b319bfe05f31</td>\n",
       "      <td>photo</td>\n",
       "      <td>Studying</td>\n",
       "      <td>https://socialbuzz.cdn.com/content/storage/975...</td>\n",
       "    </tr>\n",
       "    <tr>\n",
       "      <th>1</th>\n",
       "      <td>1</td>\n",
       "      <td>9f737e0a-3cdd-4d29-9d24-753f4e3be810</td>\n",
       "      <td>beb1f34e-7870-46d6-9fc7-2e12eb83ce43</td>\n",
       "      <td>photo</td>\n",
       "      <td>healthy eating</td>\n",
       "      <td>https://socialbuzz.cdn.com/content/storage/9f7...</td>\n",
       "    </tr>\n",
       "    <tr>\n",
       "      <th>2</th>\n",
       "      <td>2</td>\n",
       "      <td>230c4e4d-70c3-461d-b42c-ec09396efb3f</td>\n",
       "      <td>a5c65404-5894-4b87-82f2-d787cbee86b4</td>\n",
       "      <td>photo</td>\n",
       "      <td>healthy eating</td>\n",
       "      <td>https://socialbuzz.cdn.com/content/storage/230...</td>\n",
       "    </tr>\n",
       "    <tr>\n",
       "      <th>3</th>\n",
       "      <td>3</td>\n",
       "      <td>356fff80-da4d-4785-9f43-bc1261031dc6</td>\n",
       "      <td>9fb4ce88-fac1-406c-8544-1a899cee7aaf</td>\n",
       "      <td>photo</td>\n",
       "      <td>technology</td>\n",
       "      <td>https://socialbuzz.cdn.com/content/storage/356...</td>\n",
       "    </tr>\n",
       "    <tr>\n",
       "      <th>4</th>\n",
       "      <td>4</td>\n",
       "      <td>01ab84dd-6364-4236-abbb-3f237db77180</td>\n",
       "      <td>e206e31b-5f85-4964-b6ea-d7ee5324def1</td>\n",
       "      <td>video</td>\n",
       "      <td>food</td>\n",
       "      <td>https://socialbuzz.cdn.com/content/storage/01a...</td>\n",
       "    </tr>\n",
       "  </tbody>\n",
       "</table>\n",
       "</div>"
      ],
      "text/plain": [
       "   Unnamed: 0                            Content ID  \\\n",
       "0           0  97522e57-d9ab-4bd6-97bf-c24d952602d2   \n",
       "1           1  9f737e0a-3cdd-4d29-9d24-753f4e3be810   \n",
       "2           2  230c4e4d-70c3-461d-b42c-ec09396efb3f   \n",
       "3           3  356fff80-da4d-4785-9f43-bc1261031dc6   \n",
       "4           4  01ab84dd-6364-4236-abbb-3f237db77180   \n",
       "\n",
       "                                User ID   Type        Category  \\\n",
       "0  8d3cd87d-8a31-4935-9a4f-b319bfe05f31  photo        Studying   \n",
       "1  beb1f34e-7870-46d6-9fc7-2e12eb83ce43  photo  healthy eating   \n",
       "2  a5c65404-5894-4b87-82f2-d787cbee86b4  photo  healthy eating   \n",
       "3  9fb4ce88-fac1-406c-8544-1a899cee7aaf  photo      technology   \n",
       "4  e206e31b-5f85-4964-b6ea-d7ee5324def1  video            food   \n",
       "\n",
       "                                                 URL  \n",
       "0  https://socialbuzz.cdn.com/content/storage/975...  \n",
       "1  https://socialbuzz.cdn.com/content/storage/9f7...  \n",
       "2  https://socialbuzz.cdn.com/content/storage/230...  \n",
       "3  https://socialbuzz.cdn.com/content/storage/356...  \n",
       "4  https://socialbuzz.cdn.com/content/storage/01a...  "
      ]
     },
     "execution_count": 5,
     "metadata": {},
     "output_type": "execute_result"
    }
   ],
   "source": [
    "# Display the first few rows of df_content\n",
    "df_content.head()"
   ]
  },
  {
   "cell_type": "code",
   "execution_count": null,
   "id": "716c53e0-bdae-4ad5-b4c5-9f71e21b4ec6",
   "metadata": {},
   "outputs": [
    {
     "data": {
      "text/plain": [
       "(1000, 6)"
      ]
     },
     "execution_count": 6,
     "metadata": {},
     "output_type": "execute_result"
    }
   ],
   "source": [
    "#Get the shape of df_content (rows, columns)\n",
    "df_content.shape"
   ]
  },
  {
   "cell_type": "code",
   "execution_count": null,
   "id": "fdddf0f9",
   "metadata": {},
   "outputs": [],
   "source": [
    "# There are total 1000 rows and 6 columns in content dataset"
   ]
  },
  {
   "cell_type": "code",
   "execution_count": null,
   "id": "45c5ed2f-d3d2-4823-9223-7288fde9f8ff",
   "metadata": {},
   "outputs": [
    {
     "name": "stdout",
     "output_type": "stream",
     "text": [
      "<class 'pandas.core.frame.DataFrame'>\n",
      "RangeIndex: 1000 entries, 0 to 999\n",
      "Data columns (total 6 columns):\n",
      " #   Column      Non-Null Count  Dtype \n",
      "---  ------      --------------  ----- \n",
      " 0   Unnamed: 0  1000 non-null   int64 \n",
      " 1   Content ID  1000 non-null   object\n",
      " 2   User ID     1000 non-null   object\n",
      " 3   Type        1000 non-null   object\n",
      " 4   Category    1000 non-null   object\n",
      " 5   URL         801 non-null    object\n",
      "dtypes: int64(1), object(5)\n",
      "memory usage: 47.0+ KB\n"
     ]
    }
   ],
   "source": [
    "# Display data types and null values in df_content\n",
    "df_content.info()"
   ]
  },
  {
   "cell_type": "code",
   "execution_count": null,
   "id": "f18f4e96",
   "metadata": {},
   "outputs": [],
   "source": [
    "# The URL column contains missing values (199 missing out of 1000).\n",
    "# The Unnamed: 0 column likely serves as an index or redundant identifier.\n",
    "# int64: 1 column (Unnamed: 0)\n",
    "# object: 5 columns (Content ID, User ID, Type, Category, and URL)."
   ]
  },
  {
   "cell_type": "markdown",
   "id": "b887f88e",
   "metadata": {},
   "source": [
    "# Step 3: Clean df_content"
   ]
  },
  {
   "cell_type": "code",
   "execution_count": null,
   "id": "465ee97e-3c70-4421-a7a9-ecee18f9cd63",
   "metadata": {},
   "outputs": [],
   "source": [
    "# Rename column 'Type' to 'Content Type'\n",
    "df_content = df_content.rename(columns = {\"Type\" : \"Content Type\"})"
   ]
  },
  {
   "cell_type": "code",
   "execution_count": null,
   "id": "aa281d7f-8532-4cd3-9a76-8e0661d421da",
   "metadata": {},
   "outputs": [
    {
     "data": {
      "text/plain": [
       "Unnamed: 0        0\n",
       "Content ID        0\n",
       "User ID           0\n",
       "Content Type      0\n",
       "Category          0\n",
       "URL             199\n",
       "dtype: int64"
      ]
     },
     "execution_count": 9,
     "metadata": {},
     "output_type": "execute_result"
    }
   ],
   "source": [
    "# Count missing values in each column\n",
    "df_content.isnull().sum()"
   ]
  },
  {
   "cell_type": "code",
   "execution_count": 10,
   "id": "ccfa66fa-8b39-4646-bb31-06e81f71ae40",
   "metadata": {},
   "outputs": [
    {
     "data": {
      "text/plain": [
       "Unnamed: 0       0.0\n",
       "Content ID       0.0\n",
       "User ID          0.0\n",
       "Content Type     0.0\n",
       "Category         0.0\n",
       "URL             19.9\n",
       "dtype: float64"
      ]
     },
     "execution_count": 10,
     "metadata": {},
     "output_type": "execute_result"
    }
   ],
   "source": [
    "(df_content.isnull().sum()/df_content.shape[0]) * 100"
   ]
  },
  {
   "cell_type": "code",
   "execution_count": null,
   "id": "78b3bb47",
   "metadata": {},
   "outputs": [],
   "source": [
    "# There are around 20% missing values in the URL column and it is likely not relevant for our analysis so we will drop this column"
   ]
  },
  {
   "cell_type": "code",
   "execution_count": null,
   "id": "fc3b9920-57a4-451f-8b3a-0f6674a2ac36",
   "metadata": {},
   "outputs": [],
   "source": [
    "# Drop 'URL' column\n",
    "df_content = df_content.drop(\"URL\", axis = 1)"
   ]
  },
  {
   "cell_type": "code",
   "execution_count": null,
   "id": "dc603876-0685-4a82-9535-0040f11c189c",
   "metadata": {},
   "outputs": [],
   "source": [
    "# Drop 'Unnamed: 0' column {Irrelevant column} \n",
    "df_content = df_content.drop(\"Unnamed: 0\", axis = 1)"
   ]
  },
  {
   "cell_type": "code",
   "execution_count": null,
   "id": "236eeb8c-1d5e-4f8f-ba74-0395c67b4a4b",
   "metadata": {},
   "outputs": [],
   "source": [
    "# Drop 'User ID' column {Irrelevant column}\n",
    "df_content = df_content.drop(\"User ID\", axis = 1)"
   ]
  },
  {
   "cell_type": "code",
   "execution_count": 14,
   "id": "7f8270c8-d16b-4c61-8da5-e32a423dce91",
   "metadata": {},
   "outputs": [
    {
     "data": {
      "text/html": [
       "<div>\n",
       "<style scoped>\n",
       "    .dataframe tbody tr th:only-of-type {\n",
       "        vertical-align: middle;\n",
       "    }\n",
       "\n",
       "    .dataframe tbody tr th {\n",
       "        vertical-align: top;\n",
       "    }\n",
       "\n",
       "    .dataframe thead th {\n",
       "        text-align: right;\n",
       "    }\n",
       "</style>\n",
       "<table border=\"1\" class=\"dataframe\">\n",
       "  <thead>\n",
       "    <tr style=\"text-align: right;\">\n",
       "      <th></th>\n",
       "      <th>Content ID</th>\n",
       "      <th>Content Type</th>\n",
       "      <th>Category</th>\n",
       "    </tr>\n",
       "  </thead>\n",
       "  <tbody>\n",
       "    <tr>\n",
       "      <th>0</th>\n",
       "      <td>97522e57-d9ab-4bd6-97bf-c24d952602d2</td>\n",
       "      <td>photo</td>\n",
       "      <td>Studying</td>\n",
       "    </tr>\n",
       "    <tr>\n",
       "      <th>1</th>\n",
       "      <td>9f737e0a-3cdd-4d29-9d24-753f4e3be810</td>\n",
       "      <td>photo</td>\n",
       "      <td>healthy eating</td>\n",
       "    </tr>\n",
       "    <tr>\n",
       "      <th>2</th>\n",
       "      <td>230c4e4d-70c3-461d-b42c-ec09396efb3f</td>\n",
       "      <td>photo</td>\n",
       "      <td>healthy eating</td>\n",
       "    </tr>\n",
       "    <tr>\n",
       "      <th>3</th>\n",
       "      <td>356fff80-da4d-4785-9f43-bc1261031dc6</td>\n",
       "      <td>photo</td>\n",
       "      <td>technology</td>\n",
       "    </tr>\n",
       "    <tr>\n",
       "      <th>4</th>\n",
       "      <td>01ab84dd-6364-4236-abbb-3f237db77180</td>\n",
       "      <td>video</td>\n",
       "      <td>food</td>\n",
       "    </tr>\n",
       "  </tbody>\n",
       "</table>\n",
       "</div>"
      ],
      "text/plain": [
       "                             Content ID Content Type        Category\n",
       "0  97522e57-d9ab-4bd6-97bf-c24d952602d2        photo        Studying\n",
       "1  9f737e0a-3cdd-4d29-9d24-753f4e3be810        photo  healthy eating\n",
       "2  230c4e4d-70c3-461d-b42c-ec09396efb3f        photo  healthy eating\n",
       "3  356fff80-da4d-4785-9f43-bc1261031dc6        photo      technology\n",
       "4  01ab84dd-6364-4236-abbb-3f237db77180        video            food"
      ]
     },
     "execution_count": 14,
     "metadata": {},
     "output_type": "execute_result"
    }
   ],
   "source": [
    "df_content.head()"
   ]
  },
  {
   "cell_type": "code",
   "execution_count": null,
   "id": "48967920-ee5e-4550-9340-7d33b3b17b52",
   "metadata": {},
   "outputs": [
    {
     "data": {
      "text/plain": [
       "0"
      ]
     },
     "execution_count": 15,
     "metadata": {},
     "output_type": "execute_result"
    }
   ],
   "source": [
    "# Check for duplicated rows\n",
    "df_content.duplicated().sum()"
   ]
  },
  {
   "cell_type": "code",
   "execution_count": null,
   "id": "ac6a8786",
   "metadata": {},
   "outputs": [],
   "source": [
    "# There are no duplicates in the content dataset"
   ]
  },
  {
   "cell_type": "code",
   "execution_count": null,
   "id": "91fce4d6-78cc-4d14-9c79-c6c6bec8d8a9",
   "metadata": {},
   "outputs": [
    {
     "data": {
      "text/plain": [
       "Content Type\n",
       "GIF      244\n",
       "audio    236\n",
       "photo    261\n",
       "video    259\n",
       "Name: count, dtype: int64"
      ]
     },
     "execution_count": 16,
     "metadata": {},
     "output_type": "execute_result"
    }
   ],
   "source": [
    "# Count occurrences of each content type\n",
    "df_content[\"Content Type\"].value_counts().sort_index()"
   ]
  },
  {
   "cell_type": "code",
   "execution_count": null,
   "id": "14a9a91d-6e65-4a87-9654-c08b5c29ecac",
   "metadata": {},
   "outputs": [
    {
     "data": {
      "text/plain": [
       "Category\n",
       "\"animals\"             1\n",
       "\"cooking\"             1\n",
       "\"culture\"             3\n",
       "\"dogs\"                2\n",
       "\"food\"                1\n",
       "\"public speaking\"     1\n",
       "\"science\"             1\n",
       "\"soccer\"              3\n",
       "\"studying\"            1\n",
       "\"technology\"          1\n",
       "\"tennis\"              1\n",
       "\"veganism\"            1\n",
       "Animals               4\n",
       "Culture               1\n",
       "Education             2\n",
       "Fitness               5\n",
       "Food                  2\n",
       "Healthy Eating        1\n",
       "Public Speaking       1\n",
       "Science               4\n",
       "Soccer                3\n",
       "Studying              2\n",
       "Technology            1\n",
       "Travel                2\n",
       "Veganism              1\n",
       "animals              67\n",
       "cooking              60\n",
       "culture              63\n",
       "dogs                 56\n",
       "education            57\n",
       "fitness              61\n",
       "food                 61\n",
       "healthy eating       61\n",
       "public speaking      48\n",
       "science              63\n",
       "soccer               58\n",
       "studying             55\n",
       "technology           71\n",
       "tennis               58\n",
       "travel               67\n",
       "veganism             48\n",
       "Name: count, dtype: int64"
      ]
     },
     "execution_count": 17,
     "metadata": {},
     "output_type": "execute_result"
    }
   ],
   "source": [
    "# Count occurrences of each category\n",
    "df_content[\"Category\"].value_counts().sort_index()"
   ]
  },
  {
   "cell_type": "code",
   "execution_count": null,
   "id": "31ff53fe",
   "metadata": {},
   "outputs": [],
   "source": [
    "# The \"Category\" column exhibits inconsistencies: some category names are enclosed in double quotes (e.g., \"animals\", \"cooking\"), \n",
    "# while others are not (e.g., Animals, Food), and there are repeated categories with different \n",
    "# capitalization (e.g., \"Animals\" vs. \"animals\", \"Science\" vs. \"science\"), which can cause issues in analysis."
   ]
  },
  {
   "cell_type": "code",
   "execution_count": null,
   "id": "2185cc47-9292-4ab5-b9e5-6081daec649a",
   "metadata": {},
   "outputs": [],
   "source": [
    "# Clean category names\n",
    "df_content['Category'] = df_content['Category'].apply(lambda x: x.replace('\"', '').strip().lower())"
   ]
  },
  {
   "cell_type": "code",
   "execution_count": null,
   "id": "929a1711-87b5-49c1-a410-6351b79b7114",
   "metadata": {},
   "outputs": [
    {
     "data": {
      "text/plain": [
       "Category\n",
       "animals            72\n",
       "cooking            61\n",
       "culture            67\n",
       "dogs               58\n",
       "education          59\n",
       "fitness            66\n",
       "food               64\n",
       "healthy eating     62\n",
       "public speaking    50\n",
       "science            68\n",
       "soccer             64\n",
       "studying           58\n",
       "technology         73\n",
       "tennis             59\n",
       "travel             69\n",
       "veganism           50\n",
       "Name: count, dtype: int64"
      ]
     },
     "execution_count": 19,
     "metadata": {},
     "output_type": "execute_result"
    }
   ],
   "source": [
    "# Display cleaned categories\n",
    "df_content[\"Category\"].value_counts().sort_index()"
   ]
  },
  {
   "cell_type": "markdown",
   "id": "85ba8b0b",
   "metadata": {},
   "source": [
    "# Step 4: Explore df_reaction DataFrame"
   ]
  },
  {
   "cell_type": "code",
   "execution_count": null,
   "id": "729c8e5c-6710-472a-a4d5-856d3f04e719",
   "metadata": {},
   "outputs": [
    {
     "data": {
      "text/html": [
       "<div>\n",
       "<style scoped>\n",
       "    .dataframe tbody tr th:only-of-type {\n",
       "        vertical-align: middle;\n",
       "    }\n",
       "\n",
       "    .dataframe tbody tr th {\n",
       "        vertical-align: top;\n",
       "    }\n",
       "\n",
       "    .dataframe thead th {\n",
       "        text-align: right;\n",
       "    }\n",
       "</style>\n",
       "<table border=\"1\" class=\"dataframe\">\n",
       "  <thead>\n",
       "    <tr style=\"text-align: right;\">\n",
       "      <th></th>\n",
       "      <th>Unnamed: 0</th>\n",
       "      <th>Content ID</th>\n",
       "      <th>User ID</th>\n",
       "      <th>Type</th>\n",
       "      <th>Datetime</th>\n",
       "    </tr>\n",
       "  </thead>\n",
       "  <tbody>\n",
       "    <tr>\n",
       "      <th>0</th>\n",
       "      <td>0</td>\n",
       "      <td>97522e57-d9ab-4bd6-97bf-c24d952602d2</td>\n",
       "      <td>NaN</td>\n",
       "      <td>NaN</td>\n",
       "      <td>2021-04-22 15:17:15</td>\n",
       "    </tr>\n",
       "    <tr>\n",
       "      <th>1</th>\n",
       "      <td>1</td>\n",
       "      <td>97522e57-d9ab-4bd6-97bf-c24d952602d2</td>\n",
       "      <td>5d454588-283d-459d-915d-c48a2cb4c27f</td>\n",
       "      <td>disgust</td>\n",
       "      <td>2020-11-07 09:43:50</td>\n",
       "    </tr>\n",
       "    <tr>\n",
       "      <th>2</th>\n",
       "      <td>2</td>\n",
       "      <td>97522e57-d9ab-4bd6-97bf-c24d952602d2</td>\n",
       "      <td>92b87fa5-f271-43e0-af66-84fac21052e6</td>\n",
       "      <td>dislike</td>\n",
       "      <td>2021-06-17 12:22:51</td>\n",
       "    </tr>\n",
       "    <tr>\n",
       "      <th>3</th>\n",
       "      <td>3</td>\n",
       "      <td>97522e57-d9ab-4bd6-97bf-c24d952602d2</td>\n",
       "      <td>163daa38-8b77-48c9-9af6-37a6c1447ac2</td>\n",
       "      <td>scared</td>\n",
       "      <td>2021-04-18 05:13:58</td>\n",
       "    </tr>\n",
       "    <tr>\n",
       "      <th>4</th>\n",
       "      <td>4</td>\n",
       "      <td>97522e57-d9ab-4bd6-97bf-c24d952602d2</td>\n",
       "      <td>34e8add9-0206-47fd-a501-037b994650a2</td>\n",
       "      <td>disgust</td>\n",
       "      <td>2021-01-06 19:13:01</td>\n",
       "    </tr>\n",
       "  </tbody>\n",
       "</table>\n",
       "</div>"
      ],
      "text/plain": [
       "   Unnamed: 0                            Content ID  \\\n",
       "0           0  97522e57-d9ab-4bd6-97bf-c24d952602d2   \n",
       "1           1  97522e57-d9ab-4bd6-97bf-c24d952602d2   \n",
       "2           2  97522e57-d9ab-4bd6-97bf-c24d952602d2   \n",
       "3           3  97522e57-d9ab-4bd6-97bf-c24d952602d2   \n",
       "4           4  97522e57-d9ab-4bd6-97bf-c24d952602d2   \n",
       "\n",
       "                                User ID     Type             Datetime  \n",
       "0                                   NaN      NaN  2021-04-22 15:17:15  \n",
       "1  5d454588-283d-459d-915d-c48a2cb4c27f  disgust  2020-11-07 09:43:50  \n",
       "2  92b87fa5-f271-43e0-af66-84fac21052e6  dislike  2021-06-17 12:22:51  \n",
       "3  163daa38-8b77-48c9-9af6-37a6c1447ac2   scared  2021-04-18 05:13:58  \n",
       "4  34e8add9-0206-47fd-a501-037b994650a2  disgust  2021-01-06 19:13:01  "
      ]
     },
     "execution_count": 20,
     "metadata": {},
     "output_type": "execute_result"
    }
   ],
   "source": [
    "# Display the first few rows of df_reaction\n",
    "df_reaction.head()"
   ]
  },
  {
   "cell_type": "code",
   "execution_count": null,
   "id": "d62c9714-a681-4274-8a1d-40dafedcfea2",
   "metadata": {},
   "outputs": [
    {
     "data": {
      "text/plain": [
       "(25553, 5)"
      ]
     },
     "execution_count": 21,
     "metadata": {},
     "output_type": "execute_result"
    }
   ],
   "source": [
    "# Get the shape of df_reaction\n",
    "df_reaction.shape"
   ]
  },
  {
   "cell_type": "code",
   "execution_count": null,
   "id": "4de76659",
   "metadata": {},
   "outputs": [],
   "source": [
    "# There are around 25,553 rows and 5 columns in the reaction dataset"
   ]
  },
  {
   "cell_type": "code",
   "execution_count": null,
   "id": "2ed3c007-ade0-44be-a464-0fc84965cf16",
   "metadata": {},
   "outputs": [
    {
     "name": "stdout",
     "output_type": "stream",
     "text": [
      "<class 'pandas.core.frame.DataFrame'>\n",
      "RangeIndex: 25553 entries, 0 to 25552\n",
      "Data columns (total 5 columns):\n",
      " #   Column      Non-Null Count  Dtype \n",
      "---  ------      --------------  ----- \n",
      " 0   Unnamed: 0  25553 non-null  int64 \n",
      " 1   Content ID  25553 non-null  object\n",
      " 2   User ID     22534 non-null  object\n",
      " 3   Type        24573 non-null  object\n",
      " 4   Datetime    25553 non-null  object\n",
      "dtypes: int64(1), object(4)\n",
      "memory usage: 998.3+ KB\n"
     ]
    }
   ],
   "source": [
    "# Display data types and null values in df_reaction\n",
    "df_reaction.info()"
   ]
  },
  {
   "cell_type": "code",
   "execution_count": null,
   "id": "b2e1e7a5",
   "metadata": {},
   "outputs": [],
   "source": [
    "# The User ID and Type column contains missing values.\n",
    "# The Unnamed: 0 column likely serves as an index or redundant identifier.\n",
    "# int64: 1 column (Unnamed: 0)\n",
    "# object: 4 columns (Content ID, User ID, Type, Datetime)."
   ]
  },
  {
   "cell_type": "markdown",
   "id": "d528e608",
   "metadata": {},
   "source": [
    "# Step 5: Clean df_reaction\n"
   ]
  },
  {
   "cell_type": "code",
   "execution_count": null,
   "id": "43bb76da-26ea-4827-a504-f29655e475e5",
   "metadata": {},
   "outputs": [],
   "source": [
    "# Rename 'Type' to 'Reaction Type'\n",
    "df_reaction = df_reaction.rename(columns = {\"Type\" : \"Reaction Type\"})"
   ]
  },
  {
   "cell_type": "code",
   "execution_count": null,
   "id": "8b7e6697-909b-4ea4-b773-69ec84fa671e",
   "metadata": {},
   "outputs": [],
   "source": [
    "# Convert 'Datetime' column data type to datetime data type\n",
    "df_reaction[\"Datetime\"] = pd.to_datetime(df_reaction[\"Datetime\"])"
   ]
  },
  {
   "cell_type": "code",
   "execution_count": 25,
   "id": "98347f36-d3ba-49c5-b361-49a10202a48a",
   "metadata": {},
   "outputs": [
    {
     "name": "stdout",
     "output_type": "stream",
     "text": [
      "<class 'pandas.core.frame.DataFrame'>\n",
      "RangeIndex: 25553 entries, 0 to 25552\n",
      "Data columns (total 5 columns):\n",
      " #   Column         Non-Null Count  Dtype         \n",
      "---  ------         --------------  -----         \n",
      " 0   Unnamed: 0     25553 non-null  int64         \n",
      " 1   Content ID     25553 non-null  object        \n",
      " 2   User ID        22534 non-null  object        \n",
      " 3   Reaction Type  24573 non-null  object        \n",
      " 4   Datetime       25553 non-null  datetime64[ns]\n",
      "dtypes: datetime64[ns](1), int64(1), object(3)\n",
      "memory usage: 998.3+ KB\n"
     ]
    }
   ],
   "source": [
    "df_reaction.info()"
   ]
  },
  {
   "cell_type": "code",
   "execution_count": null,
   "id": "251bfded-ea3f-4d93-b7b3-aab4a8124103",
   "metadata": {},
   "outputs": [],
   "source": [
    "# Drop 'Unnamed: 0' column as it is not required\n",
    "df_reaction = df_reaction.drop(\"Unnamed: 0\", axis = 1)"
   ]
  },
  {
   "cell_type": "code",
   "execution_count": null,
   "id": "e7f6f7f3-496c-4738-9a43-d9dee1be7109",
   "metadata": {},
   "outputs": [],
   "source": [
    "# Drop 'User ID' column as it is not required\n",
    "df_reaction = df_reaction.drop(\"User ID\", axis = 1)"
   ]
  },
  {
   "cell_type": "code",
   "execution_count": null,
   "id": "5dd81ae4-77da-400f-b2f1-cf80971546ff",
   "metadata": {},
   "outputs": [
    {
     "data": {
      "text/plain": [
       "Content ID         0\n",
       "Reaction Type    980\n",
       "Datetime           0\n",
       "dtype: int64"
      ]
     },
     "execution_count": 28,
     "metadata": {},
     "output_type": "execute_result"
    }
   ],
   "source": [
    "# Count missing values\n",
    "df_reaction.isnull().sum()"
   ]
  },
  {
   "cell_type": "code",
   "execution_count": 29,
   "id": "ff30013a-3ed4-4f6a-ba00-7d4d334160d3",
   "metadata": {},
   "outputs": [
    {
     "data": {
      "text/plain": [
       "Content ID       0.000000\n",
       "Reaction Type    3.835166\n",
       "Datetime         0.000000\n",
       "dtype: float64"
      ]
     },
     "execution_count": 29,
     "metadata": {},
     "output_type": "execute_result"
    }
   ],
   "source": [
    "(df_reaction.isnull().sum()/df_reaction.shape[0]) * 100"
   ]
  },
  {
   "cell_type": "code",
   "execution_count": null,
   "id": "12903872",
   "metadata": {},
   "outputs": [],
   "source": [
    "# There are around 3.8% missing values in the 'Reaction Type' column\n",
    "# Drop missing values"
   ]
  },
  {
   "cell_type": "code",
   "execution_count": 30,
   "id": "f38b24cf-5aa4-48cd-a3bd-31db20477ee8",
   "metadata": {},
   "outputs": [],
   "source": [
    "df_reaction = df_reaction.dropna()"
   ]
  },
  {
   "cell_type": "code",
   "execution_count": 31,
   "id": "05727877-41ed-45d9-a668-cd862a9c0eca",
   "metadata": {},
   "outputs": [
    {
     "data": {
      "text/plain": [
       "Content ID       0\n",
       "Reaction Type    0\n",
       "Datetime         0\n",
       "dtype: int64"
      ]
     },
     "execution_count": 31,
     "metadata": {},
     "output_type": "execute_result"
    }
   ],
   "source": [
    "df_reaction.isnull().sum()"
   ]
  },
  {
   "cell_type": "code",
   "execution_count": null,
   "id": "226a5437-d888-47b5-b3cc-d80427f28819",
   "metadata": {},
   "outputs": [
    {
     "data": {
      "text/plain": [
       "0"
      ]
     },
     "execution_count": 32,
     "metadata": {},
     "output_type": "execute_result"
    }
   ],
   "source": [
    "# Check for duplicated rows\n",
    "df_reaction.duplicated().sum()"
   ]
  },
  {
   "cell_type": "code",
   "execution_count": null,
   "id": "77593563",
   "metadata": {},
   "outputs": [],
   "source": [
    "# There are no duplicated rows"
   ]
  },
  {
   "cell_type": "code",
   "execution_count": null,
   "id": "fa95e5e7-6d2c-463a-add8-0556a5bca4f8",
   "metadata": {},
   "outputs": [
    {
     "data": {
      "text/plain": [
       "Reaction Type\n",
       "adore          1548\n",
       "cherish        1501\n",
       "disgust        1526\n",
       "dislike        1548\n",
       "hate           1552\n",
       "heart          1622\n",
       "indifferent    1512\n",
       "interested     1549\n",
       "intrigued      1475\n",
       "like           1520\n",
       "love           1534\n",
       "peeking        1559\n",
       "scared         1572\n",
       "super love     1519\n",
       "want           1539\n",
       "worried        1497\n",
       "Name: count, dtype: int64"
      ]
     },
     "execution_count": 33,
     "metadata": {},
     "output_type": "execute_result"
    }
   ],
   "source": [
    "# Count occurrences of each reaction type\n",
    "df_reaction[\"Reaction Type\"].value_counts().sort_index()"
   ]
  },
  {
   "cell_type": "markdown",
   "id": "c35dbdbb",
   "metadata": {},
   "source": [
    "# Step 6: Explore df_reactionTypes DataFrame"
   ]
  },
  {
   "cell_type": "code",
   "execution_count": null,
   "id": "b0f9fea9-5580-4da2-8d58-81d9a52df8c5",
   "metadata": {},
   "outputs": [
    {
     "data": {
      "text/html": [
       "<div>\n",
       "<style scoped>\n",
       "    .dataframe tbody tr th:only-of-type {\n",
       "        vertical-align: middle;\n",
       "    }\n",
       "\n",
       "    .dataframe tbody tr th {\n",
       "        vertical-align: top;\n",
       "    }\n",
       "\n",
       "    .dataframe thead th {\n",
       "        text-align: right;\n",
       "    }\n",
       "</style>\n",
       "<table border=\"1\" class=\"dataframe\">\n",
       "  <thead>\n",
       "    <tr style=\"text-align: right;\">\n",
       "      <th></th>\n",
       "      <th>Unnamed: 0</th>\n",
       "      <th>Type</th>\n",
       "      <th>Sentiment</th>\n",
       "      <th>Score</th>\n",
       "    </tr>\n",
       "  </thead>\n",
       "  <tbody>\n",
       "    <tr>\n",
       "      <th>0</th>\n",
       "      <td>0</td>\n",
       "      <td>heart</td>\n",
       "      <td>positive</td>\n",
       "      <td>60</td>\n",
       "    </tr>\n",
       "    <tr>\n",
       "      <th>1</th>\n",
       "      <td>1</td>\n",
       "      <td>want</td>\n",
       "      <td>positive</td>\n",
       "      <td>70</td>\n",
       "    </tr>\n",
       "    <tr>\n",
       "      <th>2</th>\n",
       "      <td>2</td>\n",
       "      <td>disgust</td>\n",
       "      <td>negative</td>\n",
       "      <td>0</td>\n",
       "    </tr>\n",
       "    <tr>\n",
       "      <th>3</th>\n",
       "      <td>3</td>\n",
       "      <td>hate</td>\n",
       "      <td>negative</td>\n",
       "      <td>5</td>\n",
       "    </tr>\n",
       "    <tr>\n",
       "      <th>4</th>\n",
       "      <td>4</td>\n",
       "      <td>interested</td>\n",
       "      <td>positive</td>\n",
       "      <td>30</td>\n",
       "    </tr>\n",
       "  </tbody>\n",
       "</table>\n",
       "</div>"
      ],
      "text/plain": [
       "   Unnamed: 0        Type Sentiment  Score\n",
       "0           0       heart  positive     60\n",
       "1           1        want  positive     70\n",
       "2           2     disgust  negative      0\n",
       "3           3        hate  negative      5\n",
       "4           4  interested  positive     30"
      ]
     },
     "execution_count": 34,
     "metadata": {},
     "output_type": "execute_result"
    }
   ],
   "source": [
    "# Display the first few rows of df_reactionTypes\n",
    "df_reactionTypes.head()"
   ]
  },
  {
   "cell_type": "code",
   "execution_count": null,
   "id": "ee1f7710-1e56-48ad-bc04-78265d8d3b5b",
   "metadata": {},
   "outputs": [
    {
     "data": {
      "text/plain": [
       "(16, 4)"
      ]
     },
     "execution_count": 35,
     "metadata": {},
     "output_type": "execute_result"
    }
   ],
   "source": [
    "# Get the shape of df_reactionTypes\n",
    "df_reactionTypes.shape"
   ]
  },
  {
   "cell_type": "code",
   "execution_count": null,
   "id": "403862eb",
   "metadata": {},
   "outputs": [],
   "source": [
    "# There are 16 rows and 4 columns in the reaction types dataset"
   ]
  },
  {
   "cell_type": "code",
   "execution_count": null,
   "id": "999af080-89b1-43f5-869d-705baaa6b4f8",
   "metadata": {},
   "outputs": [
    {
     "name": "stdout",
     "output_type": "stream",
     "text": [
      "<class 'pandas.core.frame.DataFrame'>\n",
      "RangeIndex: 16 entries, 0 to 15\n",
      "Data columns (total 4 columns):\n",
      " #   Column      Non-Null Count  Dtype \n",
      "---  ------      --------------  ----- \n",
      " 0   Unnamed: 0  16 non-null     int64 \n",
      " 1   Type        16 non-null     object\n",
      " 2   Sentiment   16 non-null     object\n",
      " 3   Score       16 non-null     int64 \n",
      "dtypes: int64(2), object(2)\n",
      "memory usage: 644.0+ bytes\n"
     ]
    }
   ],
   "source": [
    "# Display data types and null values in df_reactionTypes\n",
    "df_reactionTypes.info()"
   ]
  },
  {
   "cell_type": "code",
   "execution_count": null,
   "id": "57e24bf7",
   "metadata": {},
   "outputs": [],
   "source": [
    "# The Unnamed: 0 column likely serves as an index or redundant identifier.\n",
    "# int64: 1 column (Unnamed: 0)\n",
    "# object: 3 columns (Type, Sentiment, Score)."
   ]
  },
  {
   "cell_type": "markdown",
   "id": "d07f3e6b",
   "metadata": {},
   "source": [
    "# Step 7: Clean df_reactionTypes\n"
   ]
  },
  {
   "cell_type": "code",
   "execution_count": null,
   "id": "ccff485d-2026-4e6f-a8ab-df55491a2fca",
   "metadata": {},
   "outputs": [],
   "source": [
    "# Drop 'Unnamed: 0' column as it is not required\n",
    "df_reactionTypes = df_reactionTypes.drop(\"Unnamed: 0\", axis = 1)"
   ]
  },
  {
   "cell_type": "code",
   "execution_count": null,
   "id": "5e56bb7c-22ec-44fa-8583-0e5a1c964654",
   "metadata": {},
   "outputs": [],
   "source": [
    "# Rename 'Type' to 'Reaction Type'\n",
    "df_reactionTypes = df_reactionTypes.rename(columns = {\"Type\" : \"Reaction Type\"})"
   ]
  },
  {
   "cell_type": "code",
   "execution_count": 39,
   "id": "54a143d0-2efb-474e-ab0e-3de7c6eb71df",
   "metadata": {},
   "outputs": [
    {
     "data": {
      "text/html": [
       "<div>\n",
       "<style scoped>\n",
       "    .dataframe tbody tr th:only-of-type {\n",
       "        vertical-align: middle;\n",
       "    }\n",
       "\n",
       "    .dataframe tbody tr th {\n",
       "        vertical-align: top;\n",
       "    }\n",
       "\n",
       "    .dataframe thead th {\n",
       "        text-align: right;\n",
       "    }\n",
       "</style>\n",
       "<table border=\"1\" class=\"dataframe\">\n",
       "  <thead>\n",
       "    <tr style=\"text-align: right;\">\n",
       "      <th></th>\n",
       "      <th>Reaction Type</th>\n",
       "      <th>Sentiment</th>\n",
       "      <th>Score</th>\n",
       "    </tr>\n",
       "  </thead>\n",
       "  <tbody>\n",
       "    <tr>\n",
       "      <th>0</th>\n",
       "      <td>heart</td>\n",
       "      <td>positive</td>\n",
       "      <td>60</td>\n",
       "    </tr>\n",
       "    <tr>\n",
       "      <th>1</th>\n",
       "      <td>want</td>\n",
       "      <td>positive</td>\n",
       "      <td>70</td>\n",
       "    </tr>\n",
       "    <tr>\n",
       "      <th>2</th>\n",
       "      <td>disgust</td>\n",
       "      <td>negative</td>\n",
       "      <td>0</td>\n",
       "    </tr>\n",
       "    <tr>\n",
       "      <th>3</th>\n",
       "      <td>hate</td>\n",
       "      <td>negative</td>\n",
       "      <td>5</td>\n",
       "    </tr>\n",
       "    <tr>\n",
       "      <th>4</th>\n",
       "      <td>interested</td>\n",
       "      <td>positive</td>\n",
       "      <td>30</td>\n",
       "    </tr>\n",
       "  </tbody>\n",
       "</table>\n",
       "</div>"
      ],
      "text/plain": [
       "  Reaction Type Sentiment  Score\n",
       "0         heart  positive     60\n",
       "1          want  positive     70\n",
       "2       disgust  negative      0\n",
       "3          hate  negative      5\n",
       "4    interested  positive     30"
      ]
     },
     "execution_count": 39,
     "metadata": {},
     "output_type": "execute_result"
    }
   ],
   "source": [
    "df_reactionTypes.head()"
   ]
  },
  {
   "cell_type": "code",
   "execution_count": null,
   "id": "15c83bb1-2e27-4df6-b0c7-e52e49e3cda5",
   "metadata": {},
   "outputs": [
    {
     "data": {
      "text/plain": [
       "Reaction Type    0\n",
       "Sentiment        0\n",
       "Score            0\n",
       "dtype: int64"
      ]
     },
     "execution_count": 40,
     "metadata": {},
     "output_type": "execute_result"
    }
   ],
   "source": [
    "# Count missing values\n",
    "df_reactionTypes.isnull().sum()"
   ]
  },
  {
   "cell_type": "code",
   "execution_count": null,
   "id": "9c4b53e7",
   "metadata": {},
   "outputs": [],
   "source": [
    "# There are no missing values in the 'Reaction Type' Dataset"
   ]
  },
  {
   "cell_type": "code",
   "execution_count": null,
   "id": "5b5421cd-aab0-444b-875f-64d2efb9bc97",
   "metadata": {},
   "outputs": [
    {
     "data": {
      "text/plain": [
       "0"
      ]
     },
     "execution_count": 41,
     "metadata": {},
     "output_type": "execute_result"
    }
   ],
   "source": [
    "# Check for duplicated rows\n",
    "df_reactionTypes.duplicated().sum()"
   ]
  },
  {
   "cell_type": "code",
   "execution_count": null,
   "id": "4b4ea7f2",
   "metadata": {},
   "outputs": [],
   "source": [
    "# There are no duplicated rows in the 'Reaction Type' Dataset"
   ]
  },
  {
   "cell_type": "code",
   "execution_count": null,
   "id": "93a5f6ee-7284-46ca-b01f-4b06feb05ee3",
   "metadata": {},
   "outputs": [
    {
     "data": {
      "text/plain": [
       "Reaction Type\n",
       "adore          1\n",
       "cherish        1\n",
       "disgust        1\n",
       "dislike        1\n",
       "hate           1\n",
       "heart          1\n",
       "indifferent    1\n",
       "interested     1\n",
       "intrigued      1\n",
       "like           1\n",
       "love           1\n",
       "peeking        1\n",
       "scared         1\n",
       "super love     1\n",
       "want           1\n",
       "worried        1\n",
       "Name: count, dtype: int64"
      ]
     },
     "execution_count": 42,
     "metadata": {},
     "output_type": "execute_result"
    }
   ],
   "source": [
    "# Count occurrences of each reaction type\n",
    "df_reactionTypes[\"Reaction Type\"].value_counts().sort_index()"
   ]
  },
  {
   "cell_type": "code",
   "execution_count": null,
   "id": "ff57d2c7-655d-4fc6-adda-556ec22fb78f",
   "metadata": {},
   "outputs": [
    {
     "data": {
      "text/plain": [
       "Sentiment\n",
       "negative    5\n",
       "neutral     2\n",
       "positive    9\n",
       "Name: count, dtype: int64"
      ]
     },
     "execution_count": 43,
     "metadata": {},
     "output_type": "execute_result"
    }
   ],
   "source": [
    "# Count occurrences of each sentiment\n",
    "df_reactionTypes[\"Sentiment\"].value_counts().sort_index()"
   ]
  },
  {
   "cell_type": "markdown",
   "id": "45803d9b",
   "metadata": {},
   "source": [
    "# Step 8: Merge the three DataFrames (df_reaction, df_content, df_reactionTypes)\n"
   ]
  },
  {
   "cell_type": "code",
   "execution_count": null,
   "id": "29cb877b-81d7-4b42-a08e-319149e6e00a",
   "metadata": {},
   "outputs": [],
   "source": [
    "# Merge reactions with content data\n",
    "df_merged = pd.merge(df_reaction, df_content, on = \"Content ID\", how = \"left\")"
   ]
  },
  {
   "cell_type": "code",
   "execution_count": null,
   "id": "d9ad64fa-9216-4437-ac45-622b08863a39",
   "metadata": {},
   "outputs": [],
   "source": [
    "# Merge reaction types with the merged DataFrame\n",
    "Final_merge = pd.merge(df_merged, df_reactionTypes, on = \"Reaction Type\", how = \"left\")"
   ]
  },
  {
   "cell_type": "code",
   "execution_count": 53,
   "id": "a655e4b5-a2e8-476b-bab0-b1ba05a14f54",
   "metadata": {},
   "outputs": [
    {
     "data": {
      "text/html": [
       "<div>\n",
       "<style scoped>\n",
       "    .dataframe tbody tr th:only-of-type {\n",
       "        vertical-align: middle;\n",
       "    }\n",
       "\n",
       "    .dataframe tbody tr th {\n",
       "        vertical-align: top;\n",
       "    }\n",
       "\n",
       "    .dataframe thead th {\n",
       "        text-align: right;\n",
       "    }\n",
       "</style>\n",
       "<table border=\"1\" class=\"dataframe\">\n",
       "  <thead>\n",
       "    <tr style=\"text-align: right;\">\n",
       "      <th></th>\n",
       "      <th>Content ID</th>\n",
       "      <th>Reaction Type</th>\n",
       "      <th>Datetime</th>\n",
       "      <th>Content Type</th>\n",
       "      <th>Category</th>\n",
       "      <th>Sentiment</th>\n",
       "      <th>Score</th>\n",
       "    </tr>\n",
       "  </thead>\n",
       "  <tbody>\n",
       "    <tr>\n",
       "      <th>0</th>\n",
       "      <td>97522e57-d9ab-4bd6-97bf-c24d952602d2</td>\n",
       "      <td>disgust</td>\n",
       "      <td>2020-11-07 09:43:50</td>\n",
       "      <td>photo</td>\n",
       "      <td>studying</td>\n",
       "      <td>negative</td>\n",
       "      <td>0</td>\n",
       "    </tr>\n",
       "    <tr>\n",
       "      <th>1</th>\n",
       "      <td>97522e57-d9ab-4bd6-97bf-c24d952602d2</td>\n",
       "      <td>dislike</td>\n",
       "      <td>2021-06-17 12:22:51</td>\n",
       "      <td>photo</td>\n",
       "      <td>studying</td>\n",
       "      <td>negative</td>\n",
       "      <td>10</td>\n",
       "    </tr>\n",
       "    <tr>\n",
       "      <th>2</th>\n",
       "      <td>97522e57-d9ab-4bd6-97bf-c24d952602d2</td>\n",
       "      <td>scared</td>\n",
       "      <td>2021-04-18 05:13:58</td>\n",
       "      <td>photo</td>\n",
       "      <td>studying</td>\n",
       "      <td>negative</td>\n",
       "      <td>15</td>\n",
       "    </tr>\n",
       "    <tr>\n",
       "      <th>3</th>\n",
       "      <td>97522e57-d9ab-4bd6-97bf-c24d952602d2</td>\n",
       "      <td>disgust</td>\n",
       "      <td>2021-01-06 19:13:01</td>\n",
       "      <td>photo</td>\n",
       "      <td>studying</td>\n",
       "      <td>negative</td>\n",
       "      <td>0</td>\n",
       "    </tr>\n",
       "    <tr>\n",
       "      <th>4</th>\n",
       "      <td>97522e57-d9ab-4bd6-97bf-c24d952602d2</td>\n",
       "      <td>interested</td>\n",
       "      <td>2020-08-23 12:25:58</td>\n",
       "      <td>photo</td>\n",
       "      <td>studying</td>\n",
       "      <td>positive</td>\n",
       "      <td>30</td>\n",
       "    </tr>\n",
       "  </tbody>\n",
       "</table>\n",
       "</div>"
      ],
      "text/plain": [
       "                             Content ID Reaction Type            Datetime  \\\n",
       "0  97522e57-d9ab-4bd6-97bf-c24d952602d2       disgust 2020-11-07 09:43:50   \n",
       "1  97522e57-d9ab-4bd6-97bf-c24d952602d2       dislike 2021-06-17 12:22:51   \n",
       "2  97522e57-d9ab-4bd6-97bf-c24d952602d2        scared 2021-04-18 05:13:58   \n",
       "3  97522e57-d9ab-4bd6-97bf-c24d952602d2       disgust 2021-01-06 19:13:01   \n",
       "4  97522e57-d9ab-4bd6-97bf-c24d952602d2    interested 2020-08-23 12:25:58   \n",
       "\n",
       "  Content Type  Category Sentiment  Score  \n",
       "0        photo  studying  negative      0  \n",
       "1        photo  studying  negative     10  \n",
       "2        photo  studying  negative     15  \n",
       "3        photo  studying  negative      0  \n",
       "4        photo  studying  positive     30  "
      ]
     },
     "execution_count": 53,
     "metadata": {},
     "output_type": "execute_result"
    }
   ],
   "source": [
    "Final_merge.head()"
   ]
  },
  {
   "cell_type": "markdown",
   "id": "974b6640",
   "metadata": {},
   "source": [
    "# Step 9: Analyze the performance by category\n"
   ]
  },
  {
   "cell_type": "code",
   "execution_count": null,
   "id": "1388c044-fd89-46a0-88a7-e0037f5b9ae9",
   "metadata": {},
   "outputs": [],
   "source": [
    "# Group by category and sum scores\n",
    "Performing_categories = Final_merge.groupby(\"Category\")[\"Score\"].sum()"
   ]
  },
  {
   "cell_type": "code",
   "execution_count": null,
   "id": "bbb4ab69-6009-4058-84a0-30b07cf8bfd9",
   "metadata": {},
   "outputs": [],
   "source": [
    "# Get the top 5 categories with the highest score\n",
    "Top_5_Categories = Performing_categories.sort_values(ascending = False).head(5)"
   ]
  },
  {
   "cell_type": "code",
   "execution_count": 60,
   "id": "ae951c7b-03ed-48b9-bd69-893c0ecd8f5b",
   "metadata": {},
   "outputs": [
    {
     "data": {
      "text/plain": [
       "Category\n",
       "animals           74965\n",
       "science           71168\n",
       "healthy eating    69339\n",
       "technology        68738\n",
       "food              66676\n",
       "Name: Score, dtype: int64"
      ]
     },
     "execution_count": 60,
     "metadata": {},
     "output_type": "execute_result"
    }
   ],
   "source": [
    "Top_5_Categories"
   ]
  },
  {
   "cell_type": "markdown",
   "id": "c81b77eb",
   "metadata": {},
   "source": [
    "# Step 10: Export the results to Excel\n"
   ]
  },
  {
   "cell_type": "code",
   "execution_count": 62,
   "id": "05c84bb9-b586-4d1a-8d04-35b76bc88bda",
   "metadata": {},
   "outputs": [],
   "source": [
    "with pd.ExcelWriter('C:/Users/Omkar/Downloads/Final_Result.xlsx') as writer:\n",
    "    # Write the cleaned dataset to the first sheet\n",
    "    Final_merge.to_excel(writer, sheet_name='Cleaned Dataset', index=False)\n",
    "    \n",
    "    # Write the Top 5 categories to the second sheet\n",
    "    Top_5_Categories.to_frame().reset_index().to_excel(writer, sheet_name='Top 5 Categories', index=False)"
   ]
  }
 ],
 "metadata": {
  "kernelspec": {
   "display_name": "Python 3 (ipykernel)",
   "language": "python",
   "name": "python3"
  },
  "language_info": {
   "codemirror_mode": {
    "name": "ipython",
    "version": 3
   },
   "file_extension": ".py",
   "mimetype": "text/x-python",
   "name": "python",
   "nbconvert_exporter": "python",
   "pygments_lexer": "ipython3",
   "version": "3.11.7"
  },
  "widgets": {
   "application/vnd.jupyter.widget-state+json": {
    "state": {},
    "version_major": 2,
    "version_minor": 0
   }
  }
 },
 "nbformat": 4,
 "nbformat_minor": 5
}
